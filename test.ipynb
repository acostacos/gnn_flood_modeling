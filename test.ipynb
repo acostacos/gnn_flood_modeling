{
 "cells": [
  {
   "cell_type": "code",
   "execution_count": 12,
   "metadata": {},
   "outputs": [],
   "source": [
    "import torch\n",
    "import time\n",
    "import numpy as np\n",
    "import geopandas as gpd\n",
    "import matplotlib.pyplot as plt\n",
    "\n",
    "from shapely.geometry import LineString\n",
    "from train import model_factory\n",
    "from models import GAT, GCN, GraphSAGE, GIN, MLP, NodeEdgeGNN\n",
    "from data import InMemoryFloodEventDataset\n",
    "from training import NodeRegressionTrainer, DualRegressionTrainer\n",
    "from utils import file_utils\n",
    "from extra.hydrographnet_flood_event_dataset import HydroGraphNetFloodEventDataset"
   ]
  },
  {
   "cell_type": "code",
   "execution_count": 13,
   "metadata": {},
   "outputs": [
    {
     "name": "stdout",
     "output_type": "stream",
     "text": [
      "The autoreload extension is already loaded. To reload it, use:\n",
      "  %reload_ext autoreload\n"
     ]
    }
   ],
   "source": [
    "%load_ext autoreload\n",
    "%autoreload 2"
   ]
  },
  {
   "cell_type": "code",
   "execution_count": 14,
   "metadata": {},
   "outputs": [
    {
     "data": {
      "text/plain": [
       "<torch._C.Generator at 0x2bf7ef7d630>"
      ]
     },
     "execution_count": 14,
     "metadata": {},
     "output_type": "execute_result"
    }
   ],
   "source": [
    "np.random.seed(42)\n",
    "torch.manual_seed(42)"
   ]
  },
  {
   "cell_type": "markdown",
   "metadata": {},
   "source": [
    "## Print GAT Attention Weights"
   ]
  },
  {
   "cell_type": "code",
   "execution_count": 15,
   "metadata": {},
   "outputs": [],
   "source": [
    "config_path = 'configs/config.yaml'\n",
    "config = file_utils.read_yaml_file(config_path)"
   ]
  },
  {
   "cell_type": "code",
   "execution_count": 16,
   "metadata": {},
   "outputs": [
    {
     "name": "stderr",
     "output_type": "stream",
     "text": [
      "Processing Hydrographs: 100%|██████████| 10/10 [00:03<00:00,  2.96it/s]\n"
     ]
    }
   ],
   "source": [
    "data_dir = \"C:\\\\Users\\\\Carlo\\\\Documents\\\\School\\\\Masters\\\\NUS\\\\Dissertation\\\\HydroGraphNet\\\\outputs_phy\\\\data\"\n",
    "n_time_steps = 2\n",
    "test_ids_file = \"0_test.txt\"\n",
    "# use_physics_loss = False\n",
    "use_physics_loss = True\n",
    "rollout_length = 30\n",
    "\n",
    "dataset = HydroGraphNetFloodEventDataset(data_dir=data_dir,\n",
    "                                            prefix=\"M80\",\n",
    "                                            n_time_steps=n_time_steps,\n",
    "                                            k=4,\n",
    "                                            hydrograph_ids_file=test_ids_file,\n",
    "                                            split=\"test\",\n",
    "                                            return_physics=use_physics_loss,\n",
    "                                            rollout_length=rollout_length)"
   ]
  },
  {
   "cell_type": "code",
   "execution_count": 17,
   "metadata": {},
   "outputs": [
    {
     "data": {
      "text/plain": [
       "<All keys matched successfully>"
      ]
     },
     "execution_count": 17,
     "metadata": {},
     "output_type": "execute_result"
    }
   ],
   "source": [
    "model_key = 'GAT'\n",
    "# model_path = 'saved_models/hydrographnet/GAT_for_HydroGraphNet_2025-05-24_02-32-33_400events.pt'\n",
    "model_path = 'saved_models/hydrographnet/GAT_for_HydroGraphNet_2025-05-24_06-56-23_physics.pt'\n",
    "num_input_features = 16\n",
    "num_edge_features = 3\n",
    "num_output_features = 2 if use_physics_loss else 1\n",
    "\n",
    "model_params = config['model_parameters'][model_key]\n",
    "\n",
    "# Remove loss function parameters\n",
    "model_params.pop('loss_func', None)\n",
    "model_params.pop('loss_func_parameters', None)\n",
    "\n",
    "if 'use_edge_features' in model_params and model_params['use_edge_features']:\n",
    "    model_params['input_edge_features'] = num_edge_features\n",
    "model_params['return_attn_weights'] = True # For analysis\n",
    "\n",
    "model = model_factory(model_key,\n",
    "                        input_features=num_input_features,\n",
    "                        output_features=num_output_features,\n",
    "                        **model_params)\n",
    "model.load_state_dict(torch.load(model_path, weights_only=True))\n",
    "# print(model)"
   ]
  },
  {
   "cell_type": "code",
   "execution_count": 18,
   "metadata": {},
   "outputs": [
    {
     "name": "stdout",
     "output_type": "stream",
     "text": [
      "Hydrograph H403\n"
     ]
    }
   ],
   "source": [
    "WATER_DEPTH_IDX = 12\n",
    "VOLUME_IDX = WATER_DEPTH_IDX + n_time_steps\n",
    "DATASET_IDX = 3\n",
    "\n",
    "model.eval()\n",
    "with torch.no_grad():\n",
    "    global_idx = (DATASET_IDX-1) * rollout_length if DATASET_IDX is not None else 0\n",
    "    limit = (DATASET_IDX * rollout_length) if DATASET_IDX is not None else len(dataset)\n",
    "    while global_idx < limit:\n",
    "        wd_sliding_window = dataset[global_idx].x.clone()[:, WATER_DEPTH_IDX:(WATER_DEPTH_IDX+n_time_steps)]\n",
    "        # wd_sliding_window = wd_sliding_window.to(args.device)\n",
    "        if use_physics_loss:\n",
    "            v_sliding_window = dataset[global_idx].x.clone()[:, VOLUME_IDX:(VOLUME_IDX+n_time_steps)]\n",
    "            # v_sliding_window = v_sliding_window.to(args.device)\n",
    "\n",
    "        for idx in range(rollout_length):\n",
    "            graph = dataset[global_idx]\n",
    "            # graph = graph.to(args.device)\n",
    "            graph.x[:, WATER_DEPTH_IDX:(WATER_DEPTH_IDX+n_time_steps)] = wd_sliding_window\n",
    "            if use_physics_loss:\n",
    "                graph.x[:, VOLUME_IDX:(VOLUME_IDX+n_time_steps)] = v_sliding_window\n",
    "\n",
    "            pred = model(graph)\n",
    "\n",
    "            if use_physics_loss:\n",
    "                wd_sliding_window = torch.concat((wd_sliding_window[:, 1:], pred[:, 0:1]), dim=1)\n",
    "                new_volume = v_sliding_window[:, 0:1] + pred[:, 1:2] # Predict volume change so we need to add it to the previous volume.\n",
    "                v_sliding_window = torch.concat((v_sliding_window[:, -1:], new_volume), dim=1)\n",
    "            else:\n",
    "                wd_sliding_window = torch.concat((wd_sliding_window[:, 1:], pred), dim=1)\n",
    "\n",
    "            global_idx += 1\n",
    "        \n",
    "        dyn_data_idx = (global_idx // rollout_length) - 1\n",
    "        sample_id = dataset.dynamic_data[dyn_data_idx].get('hydro_id', idx)\n",
    "        print(f\"Hydrograph {sample_id}\")"
   ]
  },
  {
   "cell_type": "code",
   "execution_count": 19,
   "metadata": {},
   "outputs": [],
   "source": [
    "def get_hydrographnet_gpd_node_df():\n",
    "    xy_coords_path  = \"C:\\\\Users\\\\Carlo\\\\Documents\\\\School\\\\Masters\\\\NUS\\\\Dissertation\\\\HydroGraphNet\\\\outputs_phy\\\\data\\\\M80_XY.txt\"\n",
    "    xy_coords = np.loadtxt(xy_coords_path, delimiter='\\t')\n",
    "    geometry = gpd.points_from_xy(xy_coords[:, 0], xy_coords[:, 1])\n",
    "    node_df = gpd.GeoDataFrame(geometry=geometry, crs='EPSG:4326')\n",
    "    return node_df\n",
    "\n",
    "def convert_edge_index_to_gpd_df(edge_index: torch.Tensor, node_df: gpd.GeoDataFrame):\n",
    "    edge_geometries = []\n",
    "    edge_data = []\n",
    "\n",
    "    for i in range(edge_index.shape[1]):\n",
    "        source_idx = int(edge_index[0, i].item())\n",
    "        source_geom = node_df.iloc[source_idx]['geometry']\n",
    "        source_pos = (source_geom.x, source_geom.y)\n",
    "\n",
    "        target_idx = int(edge_index[1, i].item())\n",
    "        target_geom = node_df.iloc[target_idx]['geometry']\n",
    "        target_pos = (target_geom.x, target_geom.y)\n",
    "        \n",
    "        line = LineString([source_pos, target_pos])\n",
    "        edge_geometries.append(line)\n",
    "        edge_data.append({\n",
    "            'source': source_idx,\n",
    "            'target': target_idx,\n",
    "            'edge_id': i\n",
    "        })\n",
    "\n",
    "    edge_df = gpd.GeoDataFrame(edge_data, geometry=edge_geometries, crs='EPSG:4326')\n",
    "    return edge_df\n",
    "\n",
    "def plot_edge_map(edge_df: gpd.GeoDataFrame, value: np.ndarray=None, cmap=None, title=None):\n",
    "    shared_plot_kwargs = {\n",
    "        'linewidth': 0.5,\n",
    "    }\n",
    "\n",
    "    if value is not None:\n",
    "        value_column = 'value'\n",
    "        edge_df = edge_df.copy()\n",
    "        edge_df[value_column] = value\n",
    "        if cmap is None:\n",
    "            cmap = plt.get_cmap('viridis') \n",
    "        shared_plot_kwargs.update({\n",
    "            'cmap': cmap,\n",
    "            'column': value_column,\n",
    "            'legend': True,\n",
    "            # 'legend_kwds': {\n",
    "            #     'loc': 'upper right',\n",
    "            #     'fontsize': 'x-small',\n",
    "            # },\n",
    "        })\n",
    "        \n",
    "    edge_df.plot(**shared_plot_kwargs)\n",
    "\n",
    "    if title is not None:\n",
    "        plt.title(title)\n",
    "\n",
    "    plt.axis('off')"
   ]
  },
  {
   "cell_type": "code",
   "execution_count": 20,
   "metadata": {},
   "outputs": [
    {
     "data": {
      "text/plain": [
       "['convs.module_0', 'convs.module_1']"
      ]
     },
     "execution_count": 20,
     "metadata": {},
     "output_type": "execute_result"
    }
   ],
   "source": [
    "attn_weights = model.get_rollout_attn_weights()\n",
    "list(attn_weights.keys())"
   ]
  },
  {
   "cell_type": "code",
   "execution_count": 23,
   "metadata": {},
   "outputs": [
    {
     "name": "stdout",
     "output_type": "stream",
     "text": [
      "Number of convolution steps:  30\n",
      "Total number of edges:  23935\n",
      "Retrieving top 1500 highest attention edges\n"
     ]
    },
    {
     "data": {
      "image/png": "[encoded data removed]",
      "text/plain": [
       "<Figure size 640x480 with 2 Axes>"
      ]
     },
     "metadata": {},
     "output_type": "display_data"
    }
   ],
   "source": [
    "layer_key = 'convs.module_0'\n",
    "timestep_idx = 29\n",
    "topk = 1500\n",
    "\n",
    "print('Number of convolution steps: ', len(attn_weights[layer_key]))\n",
    "\n",
    "attn_edge_index, attn_weight = attn_weights[layer_key][timestep_idx]\n",
    "\n",
    "print('Total number of edges: ', attn_edge_index.shape[1])\n",
    "\n",
    "node_df = get_hydrographnet_gpd_node_df()\n",
    "edge_df = convert_edge_index_to_gpd_df(attn_edge_index, node_df)\n",
    "\n",
    "# Filter edges to be displayed based on attn_weight\n",
    "print(f'Retrieving top {topk} highest attention edges')\n",
    "values, indices = torch.sort(attn_weight.squeeze(), descending=True)\n",
    "topk_indices = indices[:topk]\n",
    "filtered_edge_df = edge_df.iloc[topk_indices]\n",
    "filtered_attn_weight = attn_weight[topk_indices]\n",
    "\n",
    "plot_edge_map(filtered_edge_df, filtered_attn_weight, title=f'GAT (w/ physics) - Timestep {timestep_idx}')"
   ]
  },
  {
   "cell_type": "markdown",
   "metadata": {},
   "source": [
    "## Physics-informed"
   ]
  },
  {
   "cell_type": "code",
   "execution_count": 14,
   "metadata": {},
   "outputs": [],
   "source": [
    "config_path = 'configs/config.yaml'\n",
    "config = file_utils.read_yaml_file(config_path)"
   ]
  },
  {
   "cell_type": "code",
   "execution_count": 15,
   "metadata": {},
   "outputs": [],
   "source": [
    "event_name = 'initp01'\n",
    "\n",
    "dataset_parameters = config['dataset_parameters']\n",
    "dataset_info_path = dataset_parameters['dataset_info_path']\n",
    "event_parameters = dataset_parameters['flood_events'][event_name]\n",
    "\n",
    "dataset = InMemoryFloodEventDataset(**event_parameters,\n",
    "                            dataset_info_path=dataset_info_path,\n",
    "                            previous_timesteps=dataset_parameters['previous_timesteps'],\n",
    "                            node_features=dataset_parameters['node_features'],\n",
    "                            edge_features=dataset_parameters['edge_features'],\n",
    "                            normalize=dataset_parameters['normalize'],\n",
    "                            # debug=True,\n",
    "                            )\n",
    "dataset_info = file_utils.read_yaml_file(dataset_info_path)"
   ]
  },
  {
   "cell_type": "code",
   "execution_count": 16,
   "metadata": {},
   "outputs": [
    {
     "name": "stdout",
     "output_type": "stream",
     "text": [
      "tensor([[ 1.3979,  0.5419, -0.3490,  0.0000,  0.0000, -0.2856],\n",
      "        [ 0.5913,  0.5419, -0.6528,  0.0000,  0.0000, -0.5389],\n",
      "        [ 0.5364,  0.5419, -0.6823,  0.0000,  0.0000, -0.5849],\n",
      "        ...,\n",
      "        [-1.3095,  0.5419,  1.5454,  0.0000,  0.0000,  2.0618],\n",
      "        [-1.3095,  0.5419,  0.8817,  0.0000,  0.0000,  0.4731],\n",
      "        [-1.3095,  0.5419,  1.1568,  0.0000,  0.0000,  0.6879]])\n"
     ]
    }
   ],
   "source": [
    "print(dataset[0].x)"
   ]
  },
  {
   "cell_type": "code",
   "execution_count": 54,
   "metadata": {},
   "outputs": [
    {
     "name": "stdout",
     "output_type": "stream",
     "text": [
      "tensor([186, 187]) tensor(-0.0725)\n",
      "tensor([187, 186]) tensor(-0.0725)\n"
     ]
    }
   ],
   "source": [
    "# How to handle to node and from node? with velocity?\n",
    "timestep = 100\n",
    "edge_index = dataset[timestep].edge_index\n",
    "edge_attr = dataset[timestep].edge_attr\n",
    "mask = ((edge_index[0] == 186) & (edge_index[1] == 187)) | ((edge_index[1] == 186) & (edge_index[0] == 187))\n",
    "indices = torch.nonzero(mask)\n",
    "print(edge_index[:, 821], edge_attr[821, -1])\n",
    "print(edge_index[:, 824], edge_attr[824, -1])"
   ]
  },
  {
   "cell_type": "code",
   "execution_count": null,
   "metadata": {},
   "outputs": [],
   "source": [
    "device = 'cuda:0' if torch.cuda.is_available() else 'cpu'\n",
    "base_model_params = {\n",
    "    'static_node_features': dataset_info['num_static_node_features'],\n",
    "    'dynamic_node_features': dataset_info['num_dynamic_node_features'],\n",
    "    'static_edge_features': dataset_info['num_static_edge_features'],\n",
    "    'dynamic_edge_features': dataset_info['num_dynamic_edge_features'],\n",
    "    'previous_timesteps': dataset_info['previous_timesteps'],\n",
    "    'device': device,\n",
    "}\n",
    "lr_info = config['training_parameters']"
   ]
  },
  {
   "cell_type": "markdown",
   "metadata": {},
   "source": [
    "## Node Prediction Models"
   ]
  },
  {
   "cell_type": "code",
   "execution_count": 8,
   "metadata": {},
   "outputs": [],
   "source": [
    "node_model_map = {\n",
    "    'SWEGNN': SWEGNN,\n",
    "    'GCN': GCN,\n",
    "    'GAT': GAT,\n",
    "    'GIN': GIN,\n",
    "    'GraphSAGE': GraphSAGE,\n",
    "    'MLP': MLP,\n",
    "}"
   ]
  },
  {
   "cell_type": "code",
   "execution_count": 9,
   "metadata": {},
   "outputs": [
    {
     "name": "stdout",
     "output_type": "stream",
     "text": [
      "Epoch [1/10], Training Loss: 37.1307\n",
      "Epoch [2/10], Training Loss: 16.3665\n",
      "Epoch [3/10], Training Loss: 14.5061\n",
      "Epoch [4/10], Training Loss: 14.7616\n",
      "Epoch [5/10], Training Loss: 13.5458\n",
      "Epoch [6/10], Training Loss: 14.2750\n",
      "Epoch [7/10], Training Loss: 12.4722\n",
      "Epoch [8/10], Training Loss: 13.5450\n",
      "Epoch [9/10], Training Loss: 13.2214\n",
      "Epoch [10/10], Training Loss: 11.9427\n"
     ]
    }
   ],
   "source": [
    "model_name = 'GCN'\n",
    "model_params = config['model_parameters'][model_name]\n",
    "if model_name == 'MLP':\n",
    "    model_params['num_nodes'] = len(train_dataset[0].x)\n",
    "model = node_model_map[model_name](**model_params, **base_model_params)\n",
    "\n",
    "num_epochs = 10\n",
    "optimizer = torch.optim.Adam(model.parameters(), lr=lr_info['learning_rate'], weight_decay=lr_info['weight_decay'])\n",
    "loss_func = torch.nn.L1Loss()\n",
    "\n",
    "trainer = NodeRegressionTrainer(train_dataset=train_dataset, val_dataset=test_dataset, model=model,\n",
    "                                loss_func=loss_func, optimizer=optimizer, num_epochs=num_epochs, device=device)\n",
    "trainer.train()\n",
    "trainer.validate()"
   ]
  },
  {
   "cell_type": "code",
   "execution_count": 10,
   "metadata": {},
   "outputs": [
    {
     "name": "stdout",
     "output_type": "stream",
     "text": [
      "Final training Loss: 11.9427\n",
      "Average training Loss: 16.1767\n",
      "Minimum training Loss: 11.9427\n",
      "Maximum training Loss: 37.1307\n",
      "Total training time: 36.6715 seconds\n",
      "Validation Loss: 10.6697\n",
      "Inference time: 0.0072 seconds\n"
     ]
    },
    {
     "data": {
      "image/png": "[encoded data removed]",
      "text/plain": [
       "<Figure size 640x480 with 1 Axes>"
      ]
     },
     "metadata": {},
     "output_type": "display_data"
    }
   ],
   "source": [
    "stats = trainer.get_stats()\n",
    "stats.print_stats_summary()\n",
    "stats.plot_train_loss()"
   ]
  },
  {
   "cell_type": "markdown",
   "metadata": {},
   "source": [
    "## Node and Edge Prediction"
   ]
  },
  {
   "cell_type": "code",
   "execution_count": 8,
   "metadata": {},
   "outputs": [],
   "source": [
    "def node_edge_loss_func(node_pred, node_label, edge_pred, edge_label):\n",
    "    loss_func = torch.nn.L1Loss()\n",
    "    node_loss = loss_func(node_pred, node_label)\n",
    "    edge_loss = loss_func(edge_pred, edge_label)\n",
    "    return node_loss + edge_loss"
   ]
  },
  {
   "cell_type": "code",
   "execution_count": 9,
   "metadata": {},
   "outputs": [
    {
     "name": "stdout",
     "output_type": "stream",
     "text": [
      "Epoch [1/10], Training Loss: 30.5009\n",
      "Epoch [2/10], Training Loss: 0.7499\n",
      "Epoch [3/10], Training Loss: 0.6726\n",
      "Epoch [4/10], Training Loss: 0.6738\n",
      "Epoch [5/10], Training Loss: 0.6738\n",
      "Epoch [6/10], Training Loss: 50324.3104\n",
      "Epoch [7/10], Training Loss: 18.5831\n",
      "Epoch [8/10], Training Loss: 27.6478\n",
      "Epoch [9/10], Training Loss: 18.8160\n",
      "Epoch [10/10], Training Loss: 16.4935\n"
     ]
    }
   ],
   "source": [
    "model_params = config['model_parameters']['NodeEdgeGNN']\n",
    "model = NodeEdgeGNN(**model_params, **base_model_params)\n",
    "\n",
    "num_epochs = 10\n",
    "optimizer = torch.optim.Adam(model.parameters(), lr=lr_info['learning_rate'], weight_decay=lr_info['weight_decay'])\n",
    "loss_func = node_edge_loss_func\n",
    "\n",
    "trainer = DualRegressionTrainer(train_dataset=train_dataset, val_dataset=test_dataset, model=model,\n",
    "                                loss_func=loss_func, optimizer=optimizer, num_epochs=num_epochs, device=device)\n",
    "trainer.train()\n",
    "trainer.validate()"
   ]
  },
  {
   "cell_type": "code",
   "execution_count": 10,
   "metadata": {},
   "outputs": [
    {
     "name": "stdout",
     "output_type": "stream",
     "text": [
      "Final training Loss: 16.4935\n",
      "Average training Loss: 5043.9122\n",
      "Minimum training Loss: 0.6726\n",
      "Maximum training Loss: 50324.3104\n",
      "Total training time: 55.5277 seconds\n",
      "Validation Loss: 16.1494\n",
      "Inference time: 0.0089 seconds\n"
     ]
    },
    {
     "data": {
      "image/png": "[encoded data removed]",
      "text/plain": [
       "<Figure size 640x480 with 1 Axes>"
      ]
     },
     "metadata": {},
     "output_type": "display_data"
    }
   ],
   "source": [
    "stats = trainer.get_stats()\n",
    "stats.print_stats_summary()\n",
    "stats.plot_train_loss()"
   ]
  },
  {
   "cell_type": "code",
   "execution_count": 11,
   "metadata": {},
   "outputs": [
    {
     "name": "stdout",
     "output_type": "stream",
     "text": [
      "Epoch [1/10], Training Loss: 32.9814\n",
      "Epoch [2/10], Training Loss: 0.4615\n",
      "Epoch [3/10], Training Loss: 0.4827\n",
      "Epoch [4/10], Training Loss: 0.4691\n",
      "Epoch [5/10], Training Loss: 0.5596\n",
      "Epoch [6/10], Training Loss: 0.4685\n",
      "Epoch [7/10], Training Loss: 0.5260\n",
      "Epoch [8/10], Training Loss: 13865.3764\n",
      "Epoch [9/10], Training Loss: 0.7634\n",
      "Epoch [10/10], Training Loss: 0.7409\n"
     ]
    }
   ],
   "source": [
    "# Test with just Node Prediction\n",
    "model = NodeEdgeGNN(**model_params, **base_model_params)\n",
    "optimizer = torch.optim.Adam(model.parameters(), lr=lr_info['learning_rate'], weight_decay=lr_info['weight_decay'])\n",
    "loss_func = torch.nn.L1Loss()\n",
    "trainer = DualRegressionTrainer(train_dataset=train_dataset, val_dataset=test_dataset, model=model,\n",
    "                                loss_func=loss_func, optimizer=optimizer, num_epochs=num_epochs, device=device,\n",
    "                                mode='node')\n",
    "trainer.train()\n",
    "trainer.validate()"
   ]
  },
  {
   "cell_type": "code",
   "execution_count": 12,
   "metadata": {},
   "outputs": [
    {
     "name": "stdout",
     "output_type": "stream",
     "text": [
      "Final training Loss: 0.7409\n",
      "Average training Loss: 1390.2829\n",
      "Minimum training Loss: 0.4615\n",
      "Maximum training Loss: 13865.3764\n",
      "Total training time: 50.6878 seconds\n",
      "Validation Loss: 0.2032\n",
      "Inference time: 0.0068 seconds\n"
     ]
    },
    {
     "data": {
      "image/png": "[encoded data removed]",
      "text/plain": [
       "<Figure size 640x480 with 1 Axes>"
      ]
     },
     "metadata": {},
     "output_type": "display_data"
    }
   ],
   "source": [
    "stats = trainer.get_stats()\n",
    "stats.print_stats_summary()\n",
    "stats.plot_train_loss()"
   ]
  },
  {
   "cell_type": "markdown",
   "metadata": {},
   "source": [
    "## Edge Prediction Models"
   ]
  },
  {
   "cell_type": "code",
   "execution_count": null,
   "metadata": {},
   "outputs": [],
   "source": [
    "edge_model_map = {\n",
    "    'EdgeGNN': EdgeGNN,\n",
    "}"
   ]
  },
  {
   "cell_type": "code",
   "execution_count": null,
   "metadata": {},
   "outputs": [
    {
     "name": "stdout",
     "output_type": "stream",
     "text": [
      "Epoch [1/10], Training Loss: 15.5595\n",
      "Epoch [2/10], Training Loss: 0.1695\n",
      "Epoch [3/10], Training Loss: 0.1604\n",
      "Epoch [4/10], Training Loss: 0.1544\n",
      "Epoch [5/10], Training Loss: 0.1537\n",
      "Epoch [6/10], Training Loss: 0.1539\n",
      "Epoch [7/10], Training Loss: 0.1540\n",
      "Epoch [8/10], Training Loss: 0.1587\n",
      "Epoch [9/10], Training Loss: 0.2097\n",
      "Epoch [10/10], Training Loss: 0.1854\n"
     ]
    }
   ],
   "source": [
    "model_name = 'EdgeGNN' # Choose from the ff: EdgeGNN\n",
    "model_params = config['model_parameters'][model_name]\n",
    "model = edge_model_map[model_name](**model_params, **base_model_params)\n",
    "\n",
    "num_epochs = 10\n",
    "optimizer = torch.optim.Adam(model.parameters(), lr=lr_info['learning_rate'], weight_decay=lr_info['weight_decay'])\n",
    "loss_func = torch.nn.L1Loss()\n",
    "\n",
    "trainer = EdgeRegressionTrainer(train_dataset=train_dataset, val_dataset=test_dataset, model=model,\n",
    "                                loss_func=loss_func, optimizer=optimizer, num_epochs=num_epochs, device=device)\n",
    "trainer.train()\n",
    "trainer.validate()"
   ]
  },
  {
   "cell_type": "code",
   "execution_count": null,
   "metadata": {},
   "outputs": [
    {
     "name": "stdout",
     "output_type": "stream",
     "text": [
      "Final training Loss: 0.1854\n",
      "Average training Loss: 1.7059\n",
      "Minimum training Loss: 0.1537\n",
      "Maximum training Loss: 15.5595\n",
      "Total training time: 9.7774 seconds\n",
      "Validation Loss: 0.1083\n",
      "Inference time: 0.0011 seconds\n"
     ]
    },
    {
     "data": {
      "image/png": "[encoded data removed]",
      "text/plain": [
       "<Figure size 640x480 with 1 Axes>"
      ]
     },
     "metadata": {},
     "output_type": "display_data"
    }
   ],
   "source": [
    "stats = trainer.get_stats()\n",
    "stats.print_stats_summary()\n",
    "stats.plot_train_loss()"
   ]
  },
  {
   "cell_type": "markdown",
   "metadata": {},
   "source": [
    "## Self-Supervised Learning Methods"
   ]
  },
  {
   "cell_type": "code",
   "execution_count": null,
   "metadata": {},
   "outputs": [],
   "source": [
    "from tqdm import tqdm\n",
    "from models.graph_mae2 import GraphMAE2\n",
    "from utils.graph_mae2_utils import LinearRegression"
   ]
  },
  {
   "cell_type": "code",
   "execution_count": null,
   "metadata": {},
   "outputs": [
    {
     "name": "stdout",
     "output_type": "stream",
     "text": [
      "336\n",
      "Data(x=[1268, 6], edge_index=[2, 5224], edge_attr=[5224, 8], y=[1268, 1], pos=[2, 1268])\n",
      "<class 'torch.Tensor'> torch.Size([1268, 6])\n",
      "<class 'torch.Tensor'> torch.Size([2, 5224])\n",
      "<class 'torch.Tensor'> torch.Size([5224, 8])\n",
      "<class 'torch.Tensor'> torch.Size([1268, 1])\n",
      "{'num_static_node_features': 3, 'num_dynamic_node_features': 1, 'num_static_edge_features': 5, 'num_dynamic_edge_features': 1, 'previous_timesteps': 2}\n"
     ]
    }
   ],
   "source": [
    "dataset, info = FloodingEventDataset(node_features=config['node_features'],\n",
    "                    edge_features=config['edge_features'],\n",
    "                    **config['dataset_parameters']).load()\n",
    "\n",
    "print(len(dataset))\n",
    "print(dataset[0])\n",
    "print(type(dataset[0].x), dataset[0].x.shape)\n",
    "print(type(dataset[0].edge_index), dataset[0].edge_index.shape)\n",
    "print(type(dataset[0].edge_attr), dataset[0].edge_attr.shape)\n",
    "print(type(dataset[0].y), dataset[0].y.shape)\n",
    "print(info)"
   ]
  },
  {
   "cell_type": "code",
   "execution_count": null,
   "metadata": {},
   "outputs": [],
   "source": [
    "num_train = int(len(dataset) * 0.8) # 80% train, 20% test\n",
    "\n",
    "train_dataset = dataset[:num_train]\n",
    "# train_loader = DataLoader(train_dataset) # batch_size=32, shuffle=True\n",
    "\n",
    "test_dataset = dataset[num_train:]\n",
    "# test_loader = DataLoader(test_dataset) # batch_size=32, shuffle=True"
   ]
  },
  {
   "cell_type": "code",
   "execution_count": null,
   "metadata": {},
   "outputs": [],
   "source": [
    "device = 'cuda:0' if torch.cuda.is_available() else 'cpu'\n",
    "base_model_params = {\n",
    "    'static_node_features': info['num_static_node_features'],\n",
    "    'dynamic_node_features': info['num_dynamic_node_features'],\n",
    "    'static_edge_features': info['num_static_edge_features'],\n",
    "    'dynamic_edge_features': info['num_dynamic_edge_features'],\n",
    "    'previous_timesteps': info['previous_timesteps'],\n",
    "    'device': device,\n",
    "}\n",
    "lr_info = config['training_parameters']\n",
    "model_info = config['model_parameters']"
   ]
  },
  {
   "cell_type": "code",
   "execution_count": null,
   "metadata": {},
   "outputs": [],
   "source": [
    "def pretrain(model, dataset, optimizer):\n",
    "    start_time = time.time()\n",
    "\n",
    "    max_epoch = 20\n",
    "    epoch_iter = tqdm(range(max_epoch))\n",
    "    model.to(device)\n",
    "    for epoch in epoch_iter:\n",
    "        model.train()\n",
    "        running_loss = 0.0\n",
    "\n",
    "        for graph in dataset:\n",
    "            graph = graph.to(device)\n",
    "            x = graph.x # Target\n",
    "            target_nodes = torch.arange(x.shape[0], device=device, dtype=torch.long)\n",
    "\n",
    "            optimizer.zero_grad()\n",
    "\n",
    "            loss = model(graph, x, targets=target_nodes)\n",
    "            running_loss += loss.item()\n",
    "\n",
    "            loss.backward()\n",
    "            optimizer.step()\n",
    "\n",
    "        epoch_loss = running_loss / num_train\n",
    "        epoch_iter.set_description(f\"# Epoch {epoch}: train_loss: {epoch_loss:.4f}\")\n",
    "\n",
    "    end_time = time.time()\n",
    "    print(f'Total pre-training time: {(end_time - start_time):4f} seconds')\n",
    "    return model\n",
    "\n",
    "def linear_probing(model, dataset, in_dim, out_dim, lr_f, weight_decay_f):\n",
    "    start_time = time.time()\n",
    "\n",
    "    decoder = LinearRegression(in_dim, out_dim).to(device)\n",
    "\n",
    "    num_finetune_params = [p.numel() for p in decoder.parameters() if  p.requires_grad]\n",
    "    print(f\"num parameters for finetuning: {sum(num_finetune_params)}\")\n",
    "\n",
    "    loss_f = torch.nn.MSELoss()\n",
    "    optimizer_f = torch.optim.Adam(decoder.parameters(), lr=lr_f, weight_decay=weight_decay_f)\n",
    "\n",
    "    best_model = None\n",
    "    max_epoch_f = 50\n",
    "    epoch_iter_f = tqdm(range(max_epoch_f))\n",
    "    model.eval()\n",
    "    decoder.train()\n",
    "    for epoch in epoch_iter_f:\n",
    "        running_loss = 0.0\n",
    "\n",
    "        for graph in dataset:\n",
    "            optimizer_f.zero_grad()\n",
    "\n",
    "            graph = graph.to(device)\n",
    "            with torch.no_grad():\n",
    "                x = model.embed(graph)\n",
    "                x = x.to(device)\n",
    "            label = graph.y\n",
    "\n",
    "            out = decoder(x)\n",
    "            loss = loss_f(out, label)\n",
    "\n",
    "            loss.backward()\n",
    "            optimizer_f.step()\n",
    "            running_loss += loss.item()\n",
    "\n",
    "        epoch_loss = running_loss / num_train\n",
    "        epoch_iter_f.set_description(f\"# Epoch {epoch}: train_loss: {epoch_loss:.4f}\")\n",
    "\n",
    "    end_time = time.time()\n",
    "    print(f'Final loss: {epoch_loss:4f}')\n",
    "    print(f'Total fine-tuning time: {(end_time - start_time):4f} seconds')\n",
    "\n",
    "    return decoder\n",
    "\n",
    "def test_ssl(model, ft_model, dataset, loss_func):\n",
    "    start_time = time.time()\n",
    "    model.eval()\n",
    "    ft_model.eval()\n",
    "    running_loss = 0.0\n",
    "    with torch.no_grad():\n",
    "        for graph in dataset:\n",
    "            graph = graph.to(device)\n",
    "            x = model.embed(graph)\n",
    "            labels = graph.y\n",
    "\n",
    "            outputs = ft_model(x)\n",
    "\n",
    "            loss = loss_func(outputs, labels)\n",
    "            running_loss += loss.item()\n",
    "    end_time = time.time()\n",
    "\n",
    "    # Print validation statistics\n",
    "    print(f'Validation Loss: {running_loss:.4f}')\n",
    "    print(f'Inference time: {end_time - start_time} seconds')"
   ]
  },
  {
   "cell_type": "code",
   "execution_count": null,
   "metadata": {},
   "outputs": [
    {
     "name": "stdout",
     "output_type": "stream",
     "text": [
      "=== Use sce_loss and alpha_l=3 ===\n"
     ]
    },
    {
     "name": "stderr",
     "output_type": "stream",
     "text": [
      "# Epoch 19: train_loss: 0.0224: 100%|██████████| 20/20 [01:35<00:00,  4.77s/it]"
     ]
    },
    {
     "name": "stdout",
     "output_type": "stream",
     "text": [
      "Total pre-training time: 95.315137 seconds\n"
     ]
    },
    {
     "name": "stderr",
     "output_type": "stream",
     "text": [
      "\n"
     ]
    }
   ],
   "source": [
    "graphmae2_params = model_info['GRAPHMAE2']\n",
    "in_dim = dataset[0].x.shape[1]\n",
    "model = GraphMAE2(in_dim=in_dim, **graphmae2_params)\n",
    "optimizer = torch.optim.Adam(model.parameters(), lr=lr_info['learning_rate'], weight_decay=lr_info['weight_decay'])\n",
    "\n",
    "trained_model = pretrain(model, train_dataset, optimizer)"
   ]
  },
  {
   "cell_type": "code",
   "execution_count": null,
   "metadata": {},
   "outputs": [
    {
     "name": "stdout",
     "output_type": "stream",
     "text": [
      "num parameters for finetuning: 2177\n"
     ]
    },
    {
     "name": "stderr",
     "output_type": "stream",
     "text": [
      "# Epoch 49: train_loss: 620.0525: 100%|██████████| 50/50 [00:56<00:00,  1.13s/it] "
     ]
    },
    {
     "name": "stdout",
     "output_type": "stream",
     "text": [
      "Final loss: 620.052530\n",
      "Total fine-tuning time: 56.627321 seconds\n"
     ]
    },
    {
     "name": "stderr",
     "output_type": "stream",
     "text": [
      "\n"
     ]
    }
   ],
   "source": [
    "out_dim = dataset[0].y.shape[1]\n",
    "hidden_dim = graphmae2_params['num_hidden'] // graphmae2_params['nhead']\n",
    "ft_model = linear_probing(trained_model, train_dataset, hidden_dim, out_dim, 0.0008, lr_info['weight_decay'])"
   ]
  },
  {
   "cell_type": "code",
   "execution_count": null,
   "metadata": {},
   "outputs": [
    {
     "name": "stdout",
     "output_type": "stream",
     "text": [
      "Validation Loss: 32728.5642\n",
      "Inference time: 0.2315971851348877 seconds\n"
     ]
    }
   ],
   "source": [
    "loss_func = torch.nn.L1Loss()\n",
    "test_ssl(trained_model, ft_model, test_dataset, loss_func)"
   ]
  },
  {
   "cell_type": "code",
   "execution_count": null,
   "metadata": {},
   "outputs": [
    {
     "name": "stdout",
     "output_type": "stream",
     "text": [
      "cbow\n",
      "num layer: 5 l1: 4 l2: 7\n",
      "6\n",
      "6\n",
      "6\n",
      "6\n",
      "6\n",
      "====epoch 1\n"
     ]
    },
    {
     "name": "stderr",
     "output_type": "stream",
     "text": [
      "Iteration:   0%|          | 0/2 [00:00<?, ?it/s]"
     ]
    },
    {
     "name": "stdout",
     "output_type": "stream",
     "text": [
      "torch.Size([12894, 6])\n",
      "torch.Size([12894, 1])\n"
     ]
    },
    {
     "name": "stderr",
     "output_type": "stream",
     "text": [
      "Iteration:   0%|          | 0/2 [00:20<?, ?it/s]\n"
     ]
    },
    {
     "ename": "RuntimeError",
     "evalue": "running_mean should contain 1 elements not 6",
     "output_type": "error",
     "traceback": [
      "\u001b[1;31m---------------------------------------------------------------------------\u001b[0m",
      "\u001b[1;31mRuntimeError\u001b[0m                              Traceback (most recent call last)",
      "Cell \u001b[1;32mIn[53], line 4\u001b[0m\n\u001b[0;32m      1\u001b[0m \u001b[38;5;28;01mfrom\u001b[39;00m\u001b[38;5;250m \u001b[39m\u001b[38;5;21;01mmodels\u001b[39;00m\u001b[38;5;21;01m.\u001b[39;00m\u001b[38;5;21;01mgine\u001b[39;00m\u001b[38;5;21;01m.\u001b[39;00m\u001b[38;5;21;01mpretrain_contextpred\u001b[39;00m\u001b[38;5;250m \u001b[39m\u001b[38;5;28;01mimport\u001b[39;00m main\n\u001b[0;32m      3\u001b[0m model_file \u001b[38;5;241m=\u001b[39m \u001b[38;5;124m'\u001b[39m\u001b[38;5;124mmodels/gine/trained_model/gine_pretrain\u001b[39m\u001b[38;5;124m'\u001b[39m\n\u001b[1;32m----> 4\u001b[0m \u001b[43mmain\u001b[49m\u001b[43m(\u001b[49m\u001b[43mmodel_file\u001b[49m\u001b[43m)\u001b[49m\n",
      "File \u001b[1;32mc:\\Users\\Carlo\\Documents\\School\\Masters\\NUS\\gnn_flood_modeling\\models\\gine\\pretrain_contextpred.py:162\u001b[0m, in \u001b[0;36mmain\u001b[1;34m(model_file)\u001b[0m\n\u001b[0;32m    159\u001b[0m \u001b[38;5;28;01mfor\u001b[39;00m epoch \u001b[38;5;129;01min\u001b[39;00m \u001b[38;5;28mrange\u001b[39m(\u001b[38;5;241m1\u001b[39m, args[\u001b[38;5;124m'\u001b[39m\u001b[38;5;124mepochs\u001b[39m\u001b[38;5;124m'\u001b[39m]\u001b[38;5;241m+\u001b[39m\u001b[38;5;241m1\u001b[39m):\n\u001b[0;32m    160\u001b[0m     \u001b[38;5;28mprint\u001b[39m(\u001b[38;5;124m\"\u001b[39m\u001b[38;5;124m====epoch \u001b[39m\u001b[38;5;124m\"\u001b[39m \u001b[38;5;241m+\u001b[39m \u001b[38;5;28mstr\u001b[39m(epoch))\n\u001b[1;32m--> 162\u001b[0m     train_loss, train_acc \u001b[38;5;241m=\u001b[39m \u001b[43mtrain\u001b[49m\u001b[43m(\u001b[49m\u001b[43margs\u001b[49m\u001b[43m,\u001b[49m\u001b[43m \u001b[49m\u001b[43mmodel_substruct\u001b[49m\u001b[43m,\u001b[49m\u001b[43m \u001b[49m\u001b[43mmodel_context\u001b[49m\u001b[43m,\u001b[49m\u001b[43m \u001b[49m\u001b[43mloader\u001b[49m\u001b[43m,\u001b[49m\u001b[43m \u001b[49m\u001b[43moptimizer_substruct\u001b[49m\u001b[43m,\u001b[49m\u001b[43m \u001b[49m\u001b[43moptimizer_context\u001b[49m\u001b[43m,\u001b[49m\u001b[43m \u001b[49m\u001b[43mdevice\u001b[49m\u001b[43m)\u001b[49m\n\u001b[0;32m    163\u001b[0m     \u001b[38;5;28mprint\u001b[39m(train_loss, train_acc)\n\u001b[0;32m    165\u001b[0m \u001b[38;5;28;01mif\u001b[39;00m \u001b[38;5;129;01mnot\u001b[39;00m args[\u001b[38;5;124m'\u001b[39m\u001b[38;5;124moutput_model_file\u001b[39m\u001b[38;5;124m'\u001b[39m] \u001b[38;5;241m==\u001b[39m \u001b[38;5;124m\"\u001b[39m\u001b[38;5;124m\"\u001b[39m:\n",
      "File \u001b[1;32mc:\\Users\\Carlo\\Documents\\School\\Masters\\NUS\\gnn_flood_modeling\\models\\gine\\pretrain_contextpred.py:43\u001b[0m, in \u001b[0;36mtrain\u001b[1;34m(args, model_substruct, model_context, loader, optimizer_substruct, optimizer_context, device)\u001b[0m\n\u001b[0;32m     40\u001b[0m batch \u001b[38;5;241m=\u001b[39m batch\u001b[38;5;241m.\u001b[39mto(device)\n\u001b[0;32m     42\u001b[0m \u001b[38;5;66;03m# creating substructure representation\u001b[39;00m\n\u001b[1;32m---> 43\u001b[0m substruct_rep \u001b[38;5;241m=\u001b[39m \u001b[43mmodel_substruct\u001b[49m\u001b[43m(\u001b[49m\u001b[43mbatch\u001b[49m\u001b[38;5;241;43m.\u001b[39;49m\u001b[43mx_substruct\u001b[49m\u001b[43m,\u001b[49m\u001b[43m \u001b[49m\u001b[43mbatch\u001b[49m\u001b[38;5;241;43m.\u001b[39;49m\u001b[43medge_index_substruct\u001b[49m\u001b[43m,\u001b[49m\u001b[43m \u001b[49m\u001b[43mbatch\u001b[49m\u001b[38;5;241;43m.\u001b[39;49m\u001b[43medge_attr_substruct\u001b[49m\u001b[43m)\u001b[49m[batch\u001b[38;5;241m.\u001b[39mcenter_substruct_idx]\n\u001b[0;32m     45\u001b[0m \u001b[38;5;66;03m### creating context representations\u001b[39;00m\n\u001b[0;32m     46\u001b[0m overlapped_node_rep \u001b[38;5;241m=\u001b[39m model_context(batch\u001b[38;5;241m.\u001b[39mx_context, batch\u001b[38;5;241m.\u001b[39medge_index_context, batch\u001b[38;5;241m.\u001b[39medge_attr_context)[batch\u001b[38;5;241m.\u001b[39moverlap_context_substruct_idx]\n",
      "File \u001b[1;32mc:\\Users\\Carlo\\Documents\\School\\Masters\\NUS\\gnn_flood_modeling\\venv\\Lib\\site-packages\\torch\\nn\\modules\\module.py:1736\u001b[0m, in \u001b[0;36mModule._wrapped_call_impl\u001b[1;34m(self, *args, **kwargs)\u001b[0m\n\u001b[0;32m   1734\u001b[0m     \u001b[38;5;28;01mreturn\u001b[39;00m \u001b[38;5;28mself\u001b[39m\u001b[38;5;241m.\u001b[39m_compiled_call_impl(\u001b[38;5;241m*\u001b[39margs, \u001b[38;5;241m*\u001b[39m\u001b[38;5;241m*\u001b[39mkwargs)  \u001b[38;5;66;03m# type: ignore[misc]\u001b[39;00m\n\u001b[0;32m   1735\u001b[0m \u001b[38;5;28;01melse\u001b[39;00m:\n\u001b[1;32m-> 1736\u001b[0m     \u001b[38;5;28;01mreturn\u001b[39;00m \u001b[38;5;28;43mself\u001b[39;49m\u001b[38;5;241;43m.\u001b[39;49m\u001b[43m_call_impl\u001b[49m\u001b[43m(\u001b[49m\u001b[38;5;241;43m*\u001b[39;49m\u001b[43margs\u001b[49m\u001b[43m,\u001b[49m\u001b[43m \u001b[49m\u001b[38;5;241;43m*\u001b[39;49m\u001b[38;5;241;43m*\u001b[39;49m\u001b[43mkwargs\u001b[49m\u001b[43m)\u001b[49m\n",
      "File \u001b[1;32mc:\\Users\\Carlo\\Documents\\School\\Masters\\NUS\\gnn_flood_modeling\\venv\\Lib\\site-packages\\torch\\nn\\modules\\module.py:1747\u001b[0m, in \u001b[0;36mModule._call_impl\u001b[1;34m(self, *args, **kwargs)\u001b[0m\n\u001b[0;32m   1742\u001b[0m \u001b[38;5;66;03m# If we don't have any hooks, we want to skip the rest of the logic in\u001b[39;00m\n\u001b[0;32m   1743\u001b[0m \u001b[38;5;66;03m# this function, and just call forward.\u001b[39;00m\n\u001b[0;32m   1744\u001b[0m \u001b[38;5;28;01mif\u001b[39;00m \u001b[38;5;129;01mnot\u001b[39;00m (\u001b[38;5;28mself\u001b[39m\u001b[38;5;241m.\u001b[39m_backward_hooks \u001b[38;5;129;01mor\u001b[39;00m \u001b[38;5;28mself\u001b[39m\u001b[38;5;241m.\u001b[39m_backward_pre_hooks \u001b[38;5;129;01mor\u001b[39;00m \u001b[38;5;28mself\u001b[39m\u001b[38;5;241m.\u001b[39m_forward_hooks \u001b[38;5;129;01mor\u001b[39;00m \u001b[38;5;28mself\u001b[39m\u001b[38;5;241m.\u001b[39m_forward_pre_hooks\n\u001b[0;32m   1745\u001b[0m         \u001b[38;5;129;01mor\u001b[39;00m _global_backward_pre_hooks \u001b[38;5;129;01mor\u001b[39;00m _global_backward_hooks\n\u001b[0;32m   1746\u001b[0m         \u001b[38;5;129;01mor\u001b[39;00m _global_forward_hooks \u001b[38;5;129;01mor\u001b[39;00m _global_forward_pre_hooks):\n\u001b[1;32m-> 1747\u001b[0m     \u001b[38;5;28;01mreturn\u001b[39;00m \u001b[43mforward_call\u001b[49m\u001b[43m(\u001b[49m\u001b[38;5;241;43m*\u001b[39;49m\u001b[43margs\u001b[49m\u001b[43m,\u001b[49m\u001b[43m \u001b[49m\u001b[38;5;241;43m*\u001b[39;49m\u001b[38;5;241;43m*\u001b[39;49m\u001b[43mkwargs\u001b[49m\u001b[43m)\u001b[49m\n\u001b[0;32m   1749\u001b[0m result \u001b[38;5;241m=\u001b[39m \u001b[38;5;28;01mNone\u001b[39;00m\n\u001b[0;32m   1750\u001b[0m called_always_called_hooks \u001b[38;5;241m=\u001b[39m \u001b[38;5;28mset\u001b[39m()\n",
      "File \u001b[1;32mc:\\Users\\Carlo\\Documents\\School\\Masters\\NUS\\gnn_flood_modeling\\models\\gine\\model.py:71\u001b[0m, in \u001b[0;36mGINE.forward\u001b[1;34m(self, x, edge_index, edge_attr)\u001b[0m\n\u001b[0;32m     69\u001b[0m h \u001b[38;5;241m=\u001b[39m \u001b[38;5;28mself\u001b[39m\u001b[38;5;241m.\u001b[39mgnns[layer](h_list[layer], edge_index, edge_attr)\n\u001b[0;32m     70\u001b[0m \u001b[38;5;28mprint\u001b[39m(h\u001b[38;5;241m.\u001b[39mshape)\n\u001b[1;32m---> 71\u001b[0m h \u001b[38;5;241m=\u001b[39m \u001b[38;5;28;43mself\u001b[39;49m\u001b[38;5;241;43m.\u001b[39;49m\u001b[43mbatch_norms\u001b[49m\u001b[43m[\u001b[49m\u001b[43mlayer\u001b[49m\u001b[43m]\u001b[49m\u001b[43m(\u001b[49m\u001b[43mh\u001b[49m\u001b[43m)\u001b[49m\n\u001b[0;32m     72\u001b[0m \u001b[38;5;66;03m#h = F.dropout(F.relu(h), self.drop_ratio, training = self.training)\u001b[39;00m\n\u001b[0;32m     73\u001b[0m \u001b[38;5;28;01mif\u001b[39;00m layer \u001b[38;5;241m==\u001b[39m \u001b[38;5;28mself\u001b[39m\u001b[38;5;241m.\u001b[39mnum_layer \u001b[38;5;241m-\u001b[39m \u001b[38;5;241m1\u001b[39m:\n\u001b[0;32m     74\u001b[0m     \u001b[38;5;66;03m#remove relu for the last layer\u001b[39;00m\n",
      "File \u001b[1;32mc:\\Users\\Carlo\\Documents\\School\\Masters\\NUS\\gnn_flood_modeling\\venv\\Lib\\site-packages\\torch\\nn\\modules\\module.py:1736\u001b[0m, in \u001b[0;36mModule._wrapped_call_impl\u001b[1;34m(self, *args, **kwargs)\u001b[0m\n\u001b[0;32m   1734\u001b[0m     \u001b[38;5;28;01mreturn\u001b[39;00m \u001b[38;5;28mself\u001b[39m\u001b[38;5;241m.\u001b[39m_compiled_call_impl(\u001b[38;5;241m*\u001b[39margs, \u001b[38;5;241m*\u001b[39m\u001b[38;5;241m*\u001b[39mkwargs)  \u001b[38;5;66;03m# type: ignore[misc]\u001b[39;00m\n\u001b[0;32m   1735\u001b[0m \u001b[38;5;28;01melse\u001b[39;00m:\n\u001b[1;32m-> 1736\u001b[0m     \u001b[38;5;28;01mreturn\u001b[39;00m \u001b[38;5;28;43mself\u001b[39;49m\u001b[38;5;241;43m.\u001b[39;49m\u001b[43m_call_impl\u001b[49m\u001b[43m(\u001b[49m\u001b[38;5;241;43m*\u001b[39;49m\u001b[43margs\u001b[49m\u001b[43m,\u001b[49m\u001b[43m \u001b[49m\u001b[38;5;241;43m*\u001b[39;49m\u001b[38;5;241;43m*\u001b[39;49m\u001b[43mkwargs\u001b[49m\u001b[43m)\u001b[49m\n",
      "File \u001b[1;32mc:\\Users\\Carlo\\Documents\\School\\Masters\\NUS\\gnn_flood_modeling\\venv\\Lib\\site-packages\\torch\\nn\\modules\\module.py:1747\u001b[0m, in \u001b[0;36mModule._call_impl\u001b[1;34m(self, *args, **kwargs)\u001b[0m\n\u001b[0;32m   1742\u001b[0m \u001b[38;5;66;03m# If we don't have any hooks, we want to skip the rest of the logic in\u001b[39;00m\n\u001b[0;32m   1743\u001b[0m \u001b[38;5;66;03m# this function, and just call forward.\u001b[39;00m\n\u001b[0;32m   1744\u001b[0m \u001b[38;5;28;01mif\u001b[39;00m \u001b[38;5;129;01mnot\u001b[39;00m (\u001b[38;5;28mself\u001b[39m\u001b[38;5;241m.\u001b[39m_backward_hooks \u001b[38;5;129;01mor\u001b[39;00m \u001b[38;5;28mself\u001b[39m\u001b[38;5;241m.\u001b[39m_backward_pre_hooks \u001b[38;5;129;01mor\u001b[39;00m \u001b[38;5;28mself\u001b[39m\u001b[38;5;241m.\u001b[39m_forward_hooks \u001b[38;5;129;01mor\u001b[39;00m \u001b[38;5;28mself\u001b[39m\u001b[38;5;241m.\u001b[39m_forward_pre_hooks\n\u001b[0;32m   1745\u001b[0m         \u001b[38;5;129;01mor\u001b[39;00m _global_backward_pre_hooks \u001b[38;5;129;01mor\u001b[39;00m _global_backward_hooks\n\u001b[0;32m   1746\u001b[0m         \u001b[38;5;129;01mor\u001b[39;00m _global_forward_hooks \u001b[38;5;129;01mor\u001b[39;00m _global_forward_pre_hooks):\n\u001b[1;32m-> 1747\u001b[0m     \u001b[38;5;28;01mreturn\u001b[39;00m \u001b[43mforward_call\u001b[49m\u001b[43m(\u001b[49m\u001b[38;5;241;43m*\u001b[39;49m\u001b[43margs\u001b[49m\u001b[43m,\u001b[49m\u001b[43m \u001b[49m\u001b[38;5;241;43m*\u001b[39;49m\u001b[38;5;241;43m*\u001b[39;49m\u001b[43mkwargs\u001b[49m\u001b[43m)\u001b[49m\n\u001b[0;32m   1749\u001b[0m result \u001b[38;5;241m=\u001b[39m \u001b[38;5;28;01mNone\u001b[39;00m\n\u001b[0;32m   1750\u001b[0m called_always_called_hooks \u001b[38;5;241m=\u001b[39m \u001b[38;5;28mset\u001b[39m()\n",
      "File \u001b[1;32mc:\\Users\\Carlo\\Documents\\School\\Masters\\NUS\\gnn_flood_modeling\\venv\\Lib\\site-packages\\torch\\nn\\modules\\batchnorm.py:193\u001b[0m, in \u001b[0;36m_BatchNorm.forward\u001b[1;34m(self, input)\u001b[0m\n\u001b[0;32m    186\u001b[0m     bn_training \u001b[38;5;241m=\u001b[39m (\u001b[38;5;28mself\u001b[39m\u001b[38;5;241m.\u001b[39mrunning_mean \u001b[38;5;129;01mis\u001b[39;00m \u001b[38;5;28;01mNone\u001b[39;00m) \u001b[38;5;129;01mand\u001b[39;00m (\u001b[38;5;28mself\u001b[39m\u001b[38;5;241m.\u001b[39mrunning_var \u001b[38;5;129;01mis\u001b[39;00m \u001b[38;5;28;01mNone\u001b[39;00m)\n\u001b[0;32m    188\u001b[0m \u001b[38;5;250m\u001b[39m\u001b[38;5;124mr\u001b[39m\u001b[38;5;124;03m\"\"\"\u001b[39;00m\n\u001b[0;32m    189\u001b[0m \u001b[38;5;124;03mBuffers are only updated if they are to be tracked and we are in training mode. Thus they only need to be\u001b[39;00m\n\u001b[0;32m    190\u001b[0m \u001b[38;5;124;03mpassed when the update should occur (i.e. in training mode when they are tracked), or when buffer stats are\u001b[39;00m\n\u001b[0;32m    191\u001b[0m \u001b[38;5;124;03mused for normalization (i.e. in eval mode when buffers are not None).\u001b[39;00m\n\u001b[0;32m    192\u001b[0m \u001b[38;5;124;03m\"\"\"\u001b[39;00m\n\u001b[1;32m--> 193\u001b[0m \u001b[38;5;28;01mreturn\u001b[39;00m \u001b[43mF\u001b[49m\u001b[38;5;241;43m.\u001b[39;49m\u001b[43mbatch_norm\u001b[49m\u001b[43m(\u001b[49m\n\u001b[0;32m    194\u001b[0m \u001b[43m    \u001b[49m\u001b[38;5;28;43minput\u001b[39;49m\u001b[43m,\u001b[49m\n\u001b[0;32m    195\u001b[0m \u001b[43m    \u001b[49m\u001b[38;5;66;43;03m# If buffers are not to be tracked, ensure that they won't be updated\u001b[39;49;00m\n\u001b[0;32m    196\u001b[0m \u001b[43m    \u001b[49m\u001b[38;5;28;43mself\u001b[39;49m\u001b[38;5;241;43m.\u001b[39;49m\u001b[43mrunning_mean\u001b[49m\n\u001b[0;32m    197\u001b[0m \u001b[43m    \u001b[49m\u001b[38;5;28;43;01mif\u001b[39;49;00m\u001b[43m \u001b[49m\u001b[38;5;129;43;01mnot\u001b[39;49;00m\u001b[43m \u001b[49m\u001b[38;5;28;43mself\u001b[39;49m\u001b[38;5;241;43m.\u001b[39;49m\u001b[43mtraining\u001b[49m\u001b[43m \u001b[49m\u001b[38;5;129;43;01mor\u001b[39;49;00m\u001b[43m \u001b[49m\u001b[38;5;28;43mself\u001b[39;49m\u001b[38;5;241;43m.\u001b[39;49m\u001b[43mtrack_running_stats\u001b[49m\n\u001b[0;32m    198\u001b[0m \u001b[43m    \u001b[49m\u001b[38;5;28;43;01melse\u001b[39;49;00m\u001b[43m \u001b[49m\u001b[38;5;28;43;01mNone\u001b[39;49;00m\u001b[43m,\u001b[49m\n\u001b[0;32m    199\u001b[0m \u001b[43m    \u001b[49m\u001b[38;5;28;43mself\u001b[39;49m\u001b[38;5;241;43m.\u001b[39;49m\u001b[43mrunning_var\u001b[49m\u001b[43m \u001b[49m\u001b[38;5;28;43;01mif\u001b[39;49;00m\u001b[43m \u001b[49m\u001b[38;5;129;43;01mnot\u001b[39;49;00m\u001b[43m \u001b[49m\u001b[38;5;28;43mself\u001b[39;49m\u001b[38;5;241;43m.\u001b[39;49m\u001b[43mtraining\u001b[49m\u001b[43m \u001b[49m\u001b[38;5;129;43;01mor\u001b[39;49;00m\u001b[43m \u001b[49m\u001b[38;5;28;43mself\u001b[39;49m\u001b[38;5;241;43m.\u001b[39;49m\u001b[43mtrack_running_stats\u001b[49m\u001b[43m \u001b[49m\u001b[38;5;28;43;01melse\u001b[39;49;00m\u001b[43m \u001b[49m\u001b[38;5;28;43;01mNone\u001b[39;49;00m\u001b[43m,\u001b[49m\n\u001b[0;32m    200\u001b[0m \u001b[43m    \u001b[49m\u001b[38;5;28;43mself\u001b[39;49m\u001b[38;5;241;43m.\u001b[39;49m\u001b[43mweight\u001b[49m\u001b[43m,\u001b[49m\n\u001b[0;32m    201\u001b[0m \u001b[43m    \u001b[49m\u001b[38;5;28;43mself\u001b[39;49m\u001b[38;5;241;43m.\u001b[39;49m\u001b[43mbias\u001b[49m\u001b[43m,\u001b[49m\n\u001b[0;32m    202\u001b[0m \u001b[43m    \u001b[49m\u001b[43mbn_training\u001b[49m\u001b[43m,\u001b[49m\n\u001b[0;32m    203\u001b[0m \u001b[43m    \u001b[49m\u001b[43mexponential_average_factor\u001b[49m\u001b[43m,\u001b[49m\n\u001b[0;32m    204\u001b[0m \u001b[43m    \u001b[49m\u001b[38;5;28;43mself\u001b[39;49m\u001b[38;5;241;43m.\u001b[39;49m\u001b[43meps\u001b[49m\u001b[43m,\u001b[49m\n\u001b[0;32m    205\u001b[0m \u001b[43m\u001b[49m\u001b[43m)\u001b[49m\n",
      "File \u001b[1;32mc:\\Users\\Carlo\\Documents\\School\\Masters\\NUS\\gnn_flood_modeling\\venv\\Lib\\site-packages\\torch\\nn\\functional.py:2812\u001b[0m, in \u001b[0;36mbatch_norm\u001b[1;34m(input, running_mean, running_var, weight, bias, training, momentum, eps)\u001b[0m\n\u001b[0;32m   2809\u001b[0m \u001b[38;5;28;01mif\u001b[39;00m training:\n\u001b[0;32m   2810\u001b[0m     _verify_batch_size(\u001b[38;5;28minput\u001b[39m\u001b[38;5;241m.\u001b[39msize())\n\u001b[1;32m-> 2812\u001b[0m \u001b[38;5;28;01mreturn\u001b[39;00m \u001b[43mtorch\u001b[49m\u001b[38;5;241;43m.\u001b[39;49m\u001b[43mbatch_norm\u001b[49m\u001b[43m(\u001b[49m\n\u001b[0;32m   2813\u001b[0m \u001b[43m    \u001b[49m\u001b[38;5;28;43minput\u001b[39;49m\u001b[43m,\u001b[49m\n\u001b[0;32m   2814\u001b[0m \u001b[43m    \u001b[49m\u001b[43mweight\u001b[49m\u001b[43m,\u001b[49m\n\u001b[0;32m   2815\u001b[0m \u001b[43m    \u001b[49m\u001b[43mbias\u001b[49m\u001b[43m,\u001b[49m\n\u001b[0;32m   2816\u001b[0m \u001b[43m    \u001b[49m\u001b[43mrunning_mean\u001b[49m\u001b[43m,\u001b[49m\n\u001b[0;32m   2817\u001b[0m \u001b[43m    \u001b[49m\u001b[43mrunning_var\u001b[49m\u001b[43m,\u001b[49m\n\u001b[0;32m   2818\u001b[0m \u001b[43m    \u001b[49m\u001b[43mtraining\u001b[49m\u001b[43m,\u001b[49m\n\u001b[0;32m   2819\u001b[0m \u001b[43m    \u001b[49m\u001b[43mmomentum\u001b[49m\u001b[43m,\u001b[49m\n\u001b[0;32m   2820\u001b[0m \u001b[43m    \u001b[49m\u001b[43meps\u001b[49m\u001b[43m,\u001b[49m\n\u001b[0;32m   2821\u001b[0m \u001b[43m    \u001b[49m\u001b[43mtorch\u001b[49m\u001b[38;5;241;43m.\u001b[39;49m\u001b[43mbackends\u001b[49m\u001b[38;5;241;43m.\u001b[39;49m\u001b[43mcudnn\u001b[49m\u001b[38;5;241;43m.\u001b[39;49m\u001b[43menabled\u001b[49m\u001b[43m,\u001b[49m\n\u001b[0;32m   2822\u001b[0m \u001b[43m\u001b[49m\u001b[43m)\u001b[49m\n",
      "\u001b[1;31mRuntimeError\u001b[0m: running_mean should contain 1 elements not 6"
     ]
    }
   ],
   "source": [
    "from models.gine.pretrain_contextpred import main\n",
    "\n",
    "model_file = 'models/gine/trained_model/gine_pretrain'\n",
    "main(model_file)\n"
   ]
  },
  {
   "cell_type": "code",
   "execution_count": null,
   "metadata": {},
   "outputs": [],
   "source": []
  }
 ],
 "metadata": {
  "kernelspec": {
   "display_name": "venv",
   "language": "python",
   "name": "python3"
  },
  "language_info": {
   "codemirror_mode": {
    "name": "ipython",
    "version": 3
   },
   "file_extension": ".py",
   "mimetype": "text/x-python",
   "name": "python",
   "nbconvert_exporter": "python",
   "pygments_lexer": "ipython3",
   "version": "3.12.4"
  }
 },
 "nbformat": 4,
 "nbformat_minor": 2
}
