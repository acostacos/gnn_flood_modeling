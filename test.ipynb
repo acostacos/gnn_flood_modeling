{
 "cells": [
  {
   "cell_type": "code",
   "execution_count": 1,
   "metadata": {},
   "outputs": [
    {
     "name": "stderr",
     "output_type": "stream",
     "text": [
      "c:\\Users\\Carlo\\Documents\\School\\Masters\\NUS\\gnn_flood_modeling\\venv\\Lib\\site-packages\\torch_geometric\\typing.py:68: UserWarning: An issue occurred while importing 'pyg-lib'. Disabling its usage. Stacktrace: [WinError 127] The specified procedure could not be found\n",
      "  warnings.warn(f\"An issue occurred while importing 'pyg-lib'. \"\n",
      "c:\\Users\\Carlo\\Documents\\School\\Masters\\NUS\\gnn_flood_modeling\\venv\\Lib\\site-packages\\torch_geometric\\typing.py:86: UserWarning: An issue occurred while importing 'torch-scatter'. Disabling its usage. Stacktrace: [WinError 127] The specified procedure could not be found\n",
      "  warnings.warn(f\"An issue occurred while importing 'torch-scatter'. \"\n",
      "c:\\Users\\Carlo\\Documents\\School\\Masters\\NUS\\gnn_flood_modeling\\venv\\Lib\\site-packages\\torch_geometric\\typing.py:97: UserWarning: An issue occurred while importing 'torch-cluster'. Disabling its usage. Stacktrace: [WinError 127] The specified procedure could not be found\n",
      "  warnings.warn(f\"An issue occurred while importing 'torch-cluster'. \"\n",
      "c:\\Users\\Carlo\\Documents\\School\\Masters\\NUS\\gnn_flood_modeling\\venv\\Lib\\site-packages\\torch_geometric\\typing.py:113: UserWarning: An issue occurred while importing 'torch-spline-conv'. Disabling its usage. Stacktrace: [WinError 127] The specified procedure could not be found\n",
      "  warnings.warn(\n",
      "c:\\Users\\Carlo\\Documents\\School\\Masters\\NUS\\gnn_flood_modeling\\venv\\Lib\\site-packages\\torch_geometric\\typing.py:124: UserWarning: An issue occurred while importing 'torch-sparse'. Disabling its usage. Stacktrace: [WinError 127] The specified procedure could not be found\n",
      "  warnings.warn(f\"An issue occurred while importing 'torch-sparse'. \"\n"
     ]
    }
   ],
   "source": [
    "import geopandas as gpd\n",
    "import h5py\n",
    "import numpy as np\n",
    "import yaml\n",
    "\n",
    "from datetime import datetime\n",
    "from torch_geometric.data import Data"
   ]
  },
  {
   "cell_type": "code",
   "execution_count": 2,
   "metadata": {},
   "outputs": [],
   "source": [
    "%load_ext autoreload\n",
    "%autoreload 2"
   ]
  },
  {
   "cell_type": "code",
   "execution_count": 3,
   "metadata": {},
   "outputs": [],
   "source": [
    "def convert_hecras_timedata(time_data: list[np.bytes_]) -> np.ndarray:\n",
    "    TIME_STAMP_FORMAT = '%d%b%Y %H:%M:%S'\n",
    "    time_series = []\n",
    "    for tstep in time_data:\n",
    "        time_str = tstep.decode('UTF-8')\n",
    "        time_stamp = datetime.strptime(time_str, TIME_STAMP_FORMAT)\n",
    "        time_series.append(time_stamp)\n",
    "\n",
    "    return np.array(time_series)\n",
    "\n",
    "def get_timedata(path: str) -> np.ndarray:\n",
    "    with h5py.File(path, 'r') as hec:\n",
    "        # Get time data\n",
    "        time_data = hec['Results']['Unsteady']['Output']['Output Blocks']['Base Output']['Unsteady Time Series'] \\\n",
    "            ['Time Date Stamp']\n",
    "        time = convert_hecras_timedata(time_data)\n",
    "\n",
    "    return time"
   ]
  },
  {
   "cell_type": "code",
   "execution_count": 4,
   "metadata": {},
   "outputs": [],
   "source": [
    "def load_config(path: str) -> dict:\n",
    "    with open(path) as f:\n",
    "        try:\n",
    "            config = yaml.safe_load(f)\n",
    "        except:\n",
    "            print('Error loading config.yaml')\n",
    "    return config\n",
    "\n",
    "def get_nested_value(dict: dict, dict_path: str, separator: str = '.'):\n",
    "    keys = dict_path.split(sep=separator)\n",
    "    for key in keys:\n",
    "        d = d[key]\n",
    "    return d"
   ]
  },
  {
   "cell_type": "code",
   "execution_count": 5,
   "metadata": {},
   "outputs": [],
   "source": [
    "CONFIG_PATH ='config.yaml'\n",
    "\n",
    "config = load_config(CONFIG_PATH)"
   ]
  },
  {
   "cell_type": "code",
   "execution_count": 6,
   "metadata": {},
   "outputs": [
    {
     "name": "stdout",
     "output_type": "stream",
     "text": [
      "Total time steps:  337\n",
      "Difference between time steps:  0:30:00\n"
     ]
    }
   ],
   "source": [
    "hec_result_path = config['dataset_parameters']['hec_result_path']\n",
    "timesteps = get_timedata(hec_result_path)\n",
    "print('Total time steps: ', len(timesteps))\n",
    "print('Difference between time steps: ', timesteps[1] - timesteps[0])"
   ]
  },
  {
   "cell_type": "code",
   "execution_count": 7,
   "metadata": {},
   "outputs": [
    {
     "data": {
      "text/html": [
       "<div>\n",
       "<style scoped>\n",
       "    .dataframe tbody tr th:only-of-type {\n",
       "        vertical-align: middle;\n",
       "    }\n",
       "\n",
       "    .dataframe tbody tr th {\n",
       "        vertical-align: top;\n",
       "    }\n",
       "\n",
       "    .dataframe thead th {\n",
       "        text-align: right;\n",
       "    }\n",
       "</style>\n",
       "<table border=\"1\" class=\"dataframe\">\n",
       "  <thead>\n",
       "    <tr style=\"text-align: right;\">\n",
       "      <th></th>\n",
       "      <th>X</th>\n",
       "      <th>Y</th>\n",
       "      <th>CC_index</th>\n",
       "      <th>Elevation1</th>\n",
       "      <th>geometry</th>\n",
       "    </tr>\n",
       "  </thead>\n",
       "  <tbody>\n",
       "    <tr>\n",
       "      <th>0</th>\n",
       "      <td>320218.064510</td>\n",
       "      <td>6.373543e+06</td>\n",
       "      <td>0</td>\n",
       "      <td>95.920998</td>\n",
       "      <td>POINT (320218.065 6373543.045)</td>\n",
       "    </tr>\n",
       "    <tr>\n",
       "      <th>1</th>\n",
       "      <td>321418.064510</td>\n",
       "      <td>6.373543e+06</td>\n",
       "      <td>1</td>\n",
       "      <td>79.204002</td>\n",
       "      <td>POINT (321418.065 6373543.045)</td>\n",
       "    </tr>\n",
       "    <tr>\n",
       "      <th>2</th>\n",
       "      <td>321618.064510</td>\n",
       "      <td>6.373543e+06</td>\n",
       "      <td>2</td>\n",
       "      <td>77.579002</td>\n",
       "      <td>POINT (321618.065 6373543.045)</td>\n",
       "    </tr>\n",
       "    <tr>\n",
       "      <th>3</th>\n",
       "      <td>321818.064510</td>\n",
       "      <td>6.373543e+06</td>\n",
       "      <td>3</td>\n",
       "      <td>78.764999</td>\n",
       "      <td>POINT (321818.065 6373543.045)</td>\n",
       "    </tr>\n",
       "    <tr>\n",
       "      <th>4</th>\n",
       "      <td>322018.064510</td>\n",
       "      <td>6.373543e+06</td>\n",
       "      <td>4</td>\n",
       "      <td>78.786003</td>\n",
       "      <td>POINT (322018.065 6373543.045)</td>\n",
       "    </tr>\n",
       "    <tr>\n",
       "      <th>...</th>\n",
       "      <td>...</td>\n",
       "      <td>...</td>\n",
       "      <td>...</td>\n",
       "      <td>...</td>\n",
       "      <td>...</td>\n",
       "    </tr>\n",
       "    <tr>\n",
       "      <th>1263</th>\n",
       "      <td>316218.064510</td>\n",
       "      <td>6.369925e+06</td>\n",
       "      <td>1263</td>\n",
       "      <td>203.024994</td>\n",
       "      <td>POINT (316218.065 6369925.168)</td>\n",
       "    </tr>\n",
       "    <tr>\n",
       "      <th>1264</th>\n",
       "      <td>321412.664578</td>\n",
       "      <td>6.367267e+06</td>\n",
       "      <td>1264</td>\n",
       "      <td>111.728996</td>\n",
       "      <td>POINT (321412.665 6367266.906)</td>\n",
       "    </tr>\n",
       "    <tr>\n",
       "      <th>1265</th>\n",
       "      <td>317573.278635</td>\n",
       "      <td>6.365196e+06</td>\n",
       "      <td>1265</td>\n",
       "      <td>200.156006</td>\n",
       "      <td>POINT (317573.279 6365195.599)</td>\n",
       "    </tr>\n",
       "    <tr>\n",
       "      <th>1266</th>\n",
       "      <td>318261.091417</td>\n",
       "      <td>6.364419e+06</td>\n",
       "      <td>1266</td>\n",
       "      <td>163.639008</td>\n",
       "      <td>POINT (318261.091 6364419.073)</td>\n",
       "    </tr>\n",
       "    <tr>\n",
       "      <th>1267</th>\n",
       "      <td>319598.326797</td>\n",
       "      <td>6.364549e+06</td>\n",
       "      <td>1267</td>\n",
       "      <td>178.774002</td>\n",
       "      <td>POINT (319598.327 6364549.218)</td>\n",
       "    </tr>\n",
       "  </tbody>\n",
       "</table>\n",
       "<p>1268 rows × 5 columns</p>\n",
       "</div>"
      ],
      "text/plain": [
       "                  X             Y  CC_index  Elevation1  \\\n",
       "0     320218.064510  6.373543e+06         0   95.920998   \n",
       "1     321418.064510  6.373543e+06         1   79.204002   \n",
       "2     321618.064510  6.373543e+06         2   77.579002   \n",
       "3     321818.064510  6.373543e+06         3   78.764999   \n",
       "4     322018.064510  6.373543e+06         4   78.786003   \n",
       "...             ...           ...       ...         ...   \n",
       "1263  316218.064510  6.369925e+06      1263  203.024994   \n",
       "1264  321412.664578  6.367267e+06      1264  111.728996   \n",
       "1265  317573.278635  6.365196e+06      1265  200.156006   \n",
       "1266  318261.091417  6.364419e+06      1266  163.639008   \n",
       "1267  319598.326797  6.364549e+06      1267  178.774002   \n",
       "\n",
       "                            geometry  \n",
       "0     POINT (320218.065 6373543.045)  \n",
       "1     POINT (321418.065 6373543.045)  \n",
       "2     POINT (321618.065 6373543.045)  \n",
       "3     POINT (321818.065 6373543.045)  \n",
       "4     POINT (322018.065 6373543.045)  \n",
       "...                              ...  \n",
       "1263  POINT (316218.065 6369925.168)  \n",
       "1264  POINT (321412.665 6367266.906)  \n",
       "1265  POINT (317573.279 6365195.599)  \n",
       "1266  POINT (318261.091 6364419.073)  \n",
       "1267  POINT (319598.327 6364549.218)  \n",
       "\n",
       "[1268 rows x 5 columns]"
      ]
     },
     "execution_count": 7,
     "metadata": {},
     "output_type": "execute_result"
    }
   ],
   "source": [
    "nodes_shape_path = config['dataset_parameters']['nodes_shape_path']\n",
    "nodes = gpd.read_file(nodes_shape_path)\n",
    "nodes"
   ]
  },
  {
   "cell_type": "code",
   "execution_count": 8,
   "metadata": {},
   "outputs": [
    {
     "data": {
      "text/html": [
       "<div>\n",
       "<style scoped>\n",
       "    .dataframe tbody tr th:only-of-type {\n",
       "        vertical-align: middle;\n",
       "    }\n",
       "\n",
       "    .dataframe tbody tr th {\n",
       "        vertical-align: top;\n",
       "    }\n",
       "\n",
       "    .dataframe thead th {\n",
       "        text-align: right;\n",
       "    }\n",
       "</style>\n",
       "<table border=\"1\" class=\"dataframe\">\n",
       "  <thead>\n",
       "    <tr style=\"text-align: right;\">\n",
       "      <th></th>\n",
       "      <th>link_index</th>\n",
       "      <th>from_node</th>\n",
       "      <th>to_node</th>\n",
       "      <th>length</th>\n",
       "      <th>frm_node_E</th>\n",
       "      <th>to_node_E</th>\n",
       "      <th>slope</th>\n",
       "      <th>geometry</th>\n",
       "    </tr>\n",
       "  </thead>\n",
       "  <tbody>\n",
       "    <tr>\n",
       "      <th>0</th>\n",
       "      <td>0</td>\n",
       "      <td>10</td>\n",
       "      <td>11</td>\n",
       "      <td>200.000</td>\n",
       "      <td>168.376007</td>\n",
       "      <td>135.397003</td>\n",
       "      <td>-0.164895</td>\n",
       "      <td>LINESTRING (319418.065 6373343.045, 319618.065...</td>\n",
       "    </tr>\n",
       "    <tr>\n",
       "      <th>1</th>\n",
       "      <td>1</td>\n",
       "      <td>10</td>\n",
       "      <td>1126</td>\n",
       "      <td>240.787</td>\n",
       "      <td>168.376007</td>\n",
       "      <td>228.136002</td>\n",
       "      <td>0.248186</td>\n",
       "      <td>LINESTRING (319418.065 6373343.045, 319423.053...</td>\n",
       "    </tr>\n",
       "    <tr>\n",
       "      <th>2</th>\n",
       "      <td>2</td>\n",
       "      <td>10</td>\n",
       "      <td>24</td>\n",
       "      <td>200.000</td>\n",
       "      <td>168.376007</td>\n",
       "      <td>164.438004</td>\n",
       "      <td>-0.019690</td>\n",
       "      <td>LINESTRING (319418.065 6373343.045, 319418.065...</td>\n",
       "    </tr>\n",
       "    <tr>\n",
       "      <th>3</th>\n",
       "      <td>3</td>\n",
       "      <td>11</td>\n",
       "      <td>25</td>\n",
       "      <td>200.000</td>\n",
       "      <td>135.397003</td>\n",
       "      <td>141.511002</td>\n",
       "      <td>0.030570</td>\n",
       "      <td>LINESTRING (319618.065 6373343.045, 319618.065...</td>\n",
       "    </tr>\n",
       "    <tr>\n",
       "      <th>4</th>\n",
       "      <td>4</td>\n",
       "      <td>11</td>\n",
       "      <td>12</td>\n",
       "      <td>200.000</td>\n",
       "      <td>135.397003</td>\n",
       "      <td>122.338997</td>\n",
       "      <td>-0.065290</td>\n",
       "      <td>LINESTRING (319618.065 6373343.045, 319818.065...</td>\n",
       "    </tr>\n",
       "    <tr>\n",
       "      <th>...</th>\n",
       "      <td>...</td>\n",
       "      <td>...</td>\n",
       "      <td>...</td>\n",
       "      <td>...</td>\n",
       "      <td>...</td>\n",
       "      <td>...</td>\n",
       "      <td>...</td>\n",
       "      <td>...</td>\n",
       "    </tr>\n",
       "    <tr>\n",
       "      <th>2607</th>\n",
       "      <td>2607</td>\n",
       "      <td>215</td>\n",
       "      <td>1263</td>\n",
       "      <td>217.873</td>\n",
       "      <td>148.550003</td>\n",
       "      <td>203.024994</td>\n",
       "      <td>0.250031</td>\n",
       "      <td>LINESTRING (316218.065 6370143.045, 316218.065...</td>\n",
       "    </tr>\n",
       "    <tr>\n",
       "      <th>2608</th>\n",
       "      <td>2608</td>\n",
       "      <td>373</td>\n",
       "      <td>1264</td>\n",
       "      <td>208.966</td>\n",
       "      <td>111.313004</td>\n",
       "      <td>111.728996</td>\n",
       "      <td>0.001991</td>\n",
       "      <td>LINESTRING (321218.065 6367343.045, 321412.665...</td>\n",
       "    </tr>\n",
       "    <tr>\n",
       "      <th>2609</th>\n",
       "      <td>2609</td>\n",
       "      <td>418</td>\n",
       "      <td>1265</td>\n",
       "      <td>154.096</td>\n",
       "      <td>187.365997</td>\n",
       "      <td>200.156006</td>\n",
       "      <td>0.083000</td>\n",
       "      <td>LINESTRING (317618.065 6365343.045, 317573.279...</td>\n",
       "    </tr>\n",
       "    <tr>\n",
       "      <th>2610</th>\n",
       "      <td>2610</td>\n",
       "      <td>432</td>\n",
       "      <td>1266</td>\n",
       "      <td>131.225</td>\n",
       "      <td>173.673996</td>\n",
       "      <td>163.639008</td>\n",
       "      <td>-0.076472</td>\n",
       "      <td>LINESTRING (318218.065 6364543.045, 318261.091...</td>\n",
       "    </tr>\n",
       "    <tr>\n",
       "      <th>2611</th>\n",
       "      <td>2611</td>\n",
       "      <td>433</td>\n",
       "      <td>1267</td>\n",
       "      <td>180.368</td>\n",
       "      <td>158.729996</td>\n",
       "      <td>178.774002</td>\n",
       "      <td>0.111128</td>\n",
       "      <td>LINESTRING (319418.065 6364543.045, 319598.327...</td>\n",
       "    </tr>\n",
       "  </tbody>\n",
       "</table>\n",
       "<p>2612 rows × 8 columns</p>\n",
       "</div>"
      ],
      "text/plain": [
       "      link_index  from_node  to_node   length  frm_node_E   to_node_E  \\\n",
       "0              0         10       11  200.000  168.376007  135.397003   \n",
       "1              1         10     1126  240.787  168.376007  228.136002   \n",
       "2              2         10       24  200.000  168.376007  164.438004   \n",
       "3              3         11       25  200.000  135.397003  141.511002   \n",
       "4              4         11       12  200.000  135.397003  122.338997   \n",
       "...          ...        ...      ...      ...         ...         ...   \n",
       "2607        2607        215     1263  217.873  148.550003  203.024994   \n",
       "2608        2608        373     1264  208.966  111.313004  111.728996   \n",
       "2609        2609        418     1265  154.096  187.365997  200.156006   \n",
       "2610        2610        432     1266  131.225  173.673996  163.639008   \n",
       "2611        2611        433     1267  180.368  158.729996  178.774002   \n",
       "\n",
       "         slope                                           geometry  \n",
       "0    -0.164895  LINESTRING (319418.065 6373343.045, 319618.065...  \n",
       "1     0.248186  LINESTRING (319418.065 6373343.045, 319423.053...  \n",
       "2    -0.019690  LINESTRING (319418.065 6373343.045, 319418.065...  \n",
       "3     0.030570  LINESTRING (319618.065 6373343.045, 319618.065...  \n",
       "4    -0.065290  LINESTRING (319618.065 6373343.045, 319818.065...  \n",
       "...        ...                                                ...  \n",
       "2607  0.250031  LINESTRING (316218.065 6370143.045, 316218.065...  \n",
       "2608  0.001991  LINESTRING (321218.065 6367343.045, 321412.665...  \n",
       "2609  0.083000  LINESTRING (317618.065 6365343.045, 317573.279...  \n",
       "2610 -0.076472  LINESTRING (318218.065 6364543.045, 318261.091...  \n",
       "2611  0.111128  LINESTRING (319418.065 6364543.045, 319598.327...  \n",
       "\n",
       "[2612 rows x 8 columns]"
      ]
     },
     "execution_count": 8,
     "metadata": {},
     "output_type": "execute_result"
    }
   ],
   "source": [
    "edges_shape_path = config['dataset_parameters']['edges_shape_path']\n",
    "edges = gpd.read_file(edges_shape_path)\n",
    "edges"
   ]
  },
  {
   "cell_type": "code",
   "execution_count": 9,
   "metadata": {},
   "outputs": [
    {
     "name": "stdout",
     "output_type": "stream",
     "text": [
      "(2612, 2)\n",
      "[[  10   11]\n",
      " [  10 1126]\n",
      " [  10   24]\n",
      " ...\n",
      " [ 418 1265]\n",
      " [ 432 1266]\n",
      " [ 433 1267]]\n"
     ]
    }
   ],
   "source": [
    "edge_index = edges[['from_node', 'to_node']].to_numpy()\n",
    "print(edge_index.shape)\n",
    "print(edge_index)"
   ]
  },
  {
   "cell_type": "code",
   "execution_count": 10,
   "metadata": {},
   "outputs": [
    {
     "name": "stdout",
     "output_type": "stream",
     "text": [
      "(1268, 2)\n",
      "[[ 320218.06451013 6373543.04451157]\n",
      " [ 321418.06451013 6373543.04451157]\n",
      " [ 321618.06451013 6373543.04451157]\n",
      " ...\n",
      " [ 317573.2786347  6365195.59913723]\n",
      " [ 318261.0914168  6364419.07311044]\n",
      " [ 319598.32679715 6364549.21827362]]\n"
     ]
    }
   ],
   "source": [
    "pos = nodes[['X', 'Y']].to_numpy()\n",
    "print(pos.shape)\n",
    "print(pos)"
   ]
  },
  {
   "cell_type": "code",
   "execution_count": 11,
   "metadata": {},
   "outputs": [
    {
     "name": "stdout",
     "output_type": "stream",
     "text": [
      "(1268,) float32\n",
      "(1268,) float32\n",
      "(1268,) float64\n"
     ]
    },
    {
     "data": {
      "text/plain": [
       "(1268, 3)"
      ]
     },
     "execution_count": 11,
     "metadata": {},
     "output_type": "execute_result"
    }
   ],
   "source": [
    "# Node static features\n",
    "with h5py.File(hec_result_path, 'r') as hec:\n",
    "    area = np.array(hec['Geometry']['2D Flow Areas']['Perimeter 1']['Cells Surface Area'])\n",
    "    roughness = np.array(hec['Geometry']['2D Flow Areas']['Perimeter 1'][\"Cells Center Manning's n\"])\n",
    "\n",
    "elevation = nodes['Elevation1']\n",
    "print(area.shape, area.dtype)\n",
    "print(roughness.shape, roughness.dtype)\n",
    "print(elevation.shape, elevation.dtype)\n",
    "\n",
    "sf_nodes = np.stack([area, roughness, elevation], axis=1)\n",
    "sf_nodes.shape"
   ]
  },
  {
   "cell_type": "code",
   "execution_count": 12,
   "metadata": {},
   "outputs": [
    {
     "name": "stdout",
     "output_type": "stream",
     "text": [
      "(337, 1268) float32\n"
     ]
    },
    {
     "data": {
      "text/plain": [
       "(337, 1268)"
      ]
     },
     "execution_count": 12,
     "metadata": {},
     "output_type": "execute_result"
    }
   ],
   "source": [
    "# Node dynamic features\n",
    "with h5py.File(hec_result_path, 'r') as hec:\n",
    "    wl=np.array(hec['Results']['Unsteady']['Output']['Output Blocks']['Base Output'] \\\n",
    "                       ['Unsteady Time Series']['2D Flow Areas']['Perimeter 1']['Water Surface'])\n",
    "print(wl.shape, wl.dtype)\n",
    "\n",
    "df_nodes = wl\n",
    "df_nodes.shape"
   ]
  },
  {
   "cell_type": "code",
   "execution_count": 13,
   "metadata": {},
   "outputs": [
    {
     "name": "stdout",
     "output_type": "stream",
     "text": [
      "(2612,) float32\n",
      "(2612,) float32\n",
      "(2612,) float32\n",
      "(2612,) float64\n",
      "(2612,) float64\n"
     ]
    },
    {
     "data": {
      "text/plain": [
       "(2612, 5)"
      ]
     },
     "execution_count": 13,
     "metadata": {},
     "output_type": "execute_result"
    }
   ],
   "source": [
    "# Edge static features\n",
    "with h5py.File(hec_result_path, 'r') as hec:\n",
    "    struct_feats = np.array(hec['Geometry']['2D Flow Areas']['Perimeter 1']['Faces NormalUnitVector and Length'])\n",
    "    direction_x = struct_feats[:, 0]\n",
    "    direction_y = struct_feats[:, 1]\n",
    "    face_length = struct_feats[:, 2]\n",
    "\n",
    "length = edges['length']\n",
    "slope = edges['slope']\n",
    "\n",
    "print(direction_x.shape, direction_x.dtype)\n",
    "print(direction_y.shape, direction_y.dtype)\n",
    "print(face_length.shape, face_length.dtype)\n",
    "print(length.shape, length.dtype)\n",
    "print(slope.shape, slope.dtype)\n",
    "\n",
    "sf_edges = np.stack([direction_x, direction_y, face_length, length, slope], axis=1)\n",
    "sf_edges.shape"
   ]
  },
  {
   "cell_type": "code",
   "execution_count": 14,
   "metadata": {},
   "outputs": [
    {
     "name": "stdout",
     "output_type": "stream",
     "text": [
      "(337, 2612) float32\n"
     ]
    },
    {
     "data": {
      "text/plain": [
       "(337, 2612)"
      ]
     },
     "execution_count": 14,
     "metadata": {},
     "output_type": "execute_result"
    }
   ],
   "source": [
    "# Edge dynamic features\n",
    "with h5py.File(hec_result_path, 'r') as hec:\n",
    "    vel=np.array(hec['Results']['Unsteady']['Output']['Output Blocks']['Base Output'] \\\n",
    "                       ['Unsteady Time Series']['2D Flow Areas']['Perimeter 1']['Face Velocity'])\n",
    "print(vel.shape, vel.dtype)\n",
    "\n",
    "df_edges = vel\n",
    "df_edges.shape"
   ]
  },
  {
   "cell_type": "code",
   "execution_count": 15,
   "metadata": {},
   "outputs": [
    {
     "name": "stdout",
     "output_type": "stream",
     "text": [
      "337\n",
      "Data(x=[1268, 4], edge_index=[2612, 2], edge_attr=[2612, 6], pos=[1268, 2])\n"
     ]
    }
   ],
   "source": [
    "# Convert to list of pytorch geometric Data objects for time series\n",
    "dataset = []\n",
    "for i, ts in enumerate(timesteps):\n",
    "    ts_df_nodes = df_nodes[i, :][:, None]\n",
    "    ts_df_edges = df_edges[i, :][:, None]\n",
    "    node_features = np.concatenate([sf_nodes, ts_df_nodes], axis=1)\n",
    "    edge_features = np.concatenate([sf_edges, ts_df_edges], axis=1)\n",
    "    data = Data(x=node_features, edge_index=edge_index, edge_attr=edge_features, pos=pos)\n",
    "    dataset.append(data)\n",
    "print(len(dataset))\n",
    "print(dataset[0])"
   ]
  },
  {
   "cell_type": "code",
   "execution_count": null,
   "metadata": {},
   "outputs": [],
   "source": []
  }
 ],
 "metadata": {
  "kernelspec": {
   "display_name": "venv",
   "language": "python",
   "name": "python3"
  },
  "language_info": {
   "codemirror_mode": {
    "name": "ipython",
    "version": 3
   },
   "file_extension": ".py",
   "mimetype": "text/x-python",
   "name": "python",
   "nbconvert_exporter": "python",
   "pygments_lexer": "ipython3",
   "version": "3.12.4"
  }
 },
 "nbformat": 4,
 "nbformat_minor": 2
}
